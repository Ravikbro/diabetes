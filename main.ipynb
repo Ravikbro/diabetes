{
 "cells": [
  {
   "cell_type": "code",
   "execution_count": 5,
   "metadata": {
    "collapsed": true
   },
   "outputs": [],
   "source": [
    "import pandas as pd\n",
    "import numpy as np"
   ]
  },
  {
   "cell_type": "code",
   "execution_count": 16,
   "outputs": [
    {
     "data": {
      "text/plain": "     Pregnancies  Glucose  BloodPressure  SkinThickness  Insulin   BMI   \n114            7      160             54             32      175  30.5  \\\n687            1      107             50             19        0  28.3   \n237            0      179             90             27        0  44.1   \n264            4      123             62              0        0  32.0   \n601            6       96              0              0        0  23.7   \n\n     DiabetesPedigreeFunction  Age  Outcome  \n114                     0.588   39        1  \n687                     0.181   29        0  \n237                     0.686   23        1  \n264                     0.226   35        1  \n601                     0.190   28        0  ",
      "text/html": "<div>\n<style scoped>\n    .dataframe tbody tr th:only-of-type {\n        vertical-align: middle;\n    }\n\n    .dataframe tbody tr th {\n        vertical-align: top;\n    }\n\n    .dataframe thead th {\n        text-align: right;\n    }\n</style>\n<table border=\"1\" class=\"dataframe\">\n  <thead>\n    <tr style=\"text-align: right;\">\n      <th></th>\n      <th>Pregnancies</th>\n      <th>Glucose</th>\n      <th>BloodPressure</th>\n      <th>SkinThickness</th>\n      <th>Insulin</th>\n      <th>BMI</th>\n      <th>DiabetesPedigreeFunction</th>\n      <th>Age</th>\n      <th>Outcome</th>\n    </tr>\n  </thead>\n  <tbody>\n    <tr>\n      <th>114</th>\n      <td>7</td>\n      <td>160</td>\n      <td>54</td>\n      <td>32</td>\n      <td>175</td>\n      <td>30.5</td>\n      <td>0.588</td>\n      <td>39</td>\n      <td>1</td>\n    </tr>\n    <tr>\n      <th>687</th>\n      <td>1</td>\n      <td>107</td>\n      <td>50</td>\n      <td>19</td>\n      <td>0</td>\n      <td>28.3</td>\n      <td>0.181</td>\n      <td>29</td>\n      <td>0</td>\n    </tr>\n    <tr>\n      <th>237</th>\n      <td>0</td>\n      <td>179</td>\n      <td>90</td>\n      <td>27</td>\n      <td>0</td>\n      <td>44.1</td>\n      <td>0.686</td>\n      <td>23</td>\n      <td>1</td>\n    </tr>\n    <tr>\n      <th>264</th>\n      <td>4</td>\n      <td>123</td>\n      <td>62</td>\n      <td>0</td>\n      <td>0</td>\n      <td>32.0</td>\n      <td>0.226</td>\n      <td>35</td>\n      <td>1</td>\n    </tr>\n    <tr>\n      <th>601</th>\n      <td>6</td>\n      <td>96</td>\n      <td>0</td>\n      <td>0</td>\n      <td>0</td>\n      <td>23.7</td>\n      <td>0.190</td>\n      <td>28</td>\n      <td>0</td>\n    </tr>\n  </tbody>\n</table>\n</div>"
     },
     "execution_count": 16,
     "metadata": {},
     "output_type": "execute_result"
    }
   ],
   "source": [
    "df = pd.read_csv('diabetes.csv')\n",
    "df.sample(5)"
   ],
   "metadata": {
    "collapsed": false
   }
  },
  {
   "cell_type": "code",
   "execution_count": 17,
   "outputs": [
    {
     "data": {
      "text/plain": "Outcome                     1.000000\nGlucose                     0.466581\nBMI                         0.292695\nAge                         0.238356\nPregnancies                 0.221898\nDiabetesPedigreeFunction    0.173844\nInsulin                     0.130548\nSkinThickness               0.074752\nBloodPressure               0.065068\ndtype: float64"
     },
     "execution_count": 17,
     "metadata": {},
     "output_type": "execute_result"
    }
   ],
   "source": [
    "df.corrwith(df['Outcome']).sort_values(ascending=False)"
   ],
   "metadata": {
    "collapsed": false
   }
  },
  {
   "cell_type": "code",
   "execution_count": 19,
   "outputs": [
    {
     "data": {
      "text/plain": "<pandas.io.formats.style.Styler at 0x7f7cf976ce50>",
      "text/html": "<style type=\"text/css\">\n#T_bec15_row0_col0, #T_bec15_row1_col1, #T_bec15_row2_col2, #T_bec15_row3_col3, #T_bec15_row4_col4, #T_bec15_row5_col5, #T_bec15_row6_col6, #T_bec15_row7_col7, #T_bec15_row8_col8 {\n  background-color: #b40426;\n  color: #f1f1f1;\n}\n#T_bec15_row0_col1 {\n  background-color: #516ddb;\n  color: #f1f1f1;\n}\n#T_bec15_row0_col2 {\n  background-color: #5a78e4;\n  color: #f1f1f1;\n}\n#T_bec15_row0_col3, #T_bec15_row8_col2 {\n  background-color: #4257c9;\n  color: #f1f1f1;\n}\n#T_bec15_row0_col4 {\n  background-color: #445acc;\n  color: #f1f1f1;\n}\n#T_bec15_row0_col5, #T_bec15_row0_col6, #T_bec15_row1_col3, #T_bec15_row2_col8, #T_bec15_row3_col1, #T_bec15_row5_col0, #T_bec15_row5_col7, #T_bec15_row6_col2, #T_bec15_row6_col7, #T_bec15_row7_col4, #T_bec15_row7_col6 {\n  background-color: #3b4cc0;\n  color: #f1f1f1;\n}\n#T_bec15_row0_col7 {\n  background-color: #e4d9d2;\n  color: #000000;\n}\n#T_bec15_row0_col8 {\n  background-color: #6f92f3;\n  color: #f1f1f1;\n}\n#T_bec15_row1_col0, #T_bec15_row1_col2, #T_bec15_row6_col8 {\n  background-color: #5e7de7;\n  color: #f1f1f1;\n}\n#T_bec15_row1_col4 {\n  background-color: #9fbfff;\n  color: #000000;\n}\n#T_bec15_row1_col5, #T_bec15_row8_col0 {\n  background-color: #7ea1fa;\n  color: #f1f1f1;\n}\n#T_bec15_row1_col6 {\n  background-color: #5b7ae5;\n  color: #f1f1f1;\n}\n#T_bec15_row1_col7 {\n  background-color: #88abfd;\n  color: #000000;\n}\n#T_bec15_row1_col8 {\n  background-color: #c9d7f0;\n  color: #000000;\n}\n#T_bec15_row2_col0, #T_bec15_row6_col5 {\n  background-color: #6282ea;\n  color: #f1f1f1;\n}\n#T_bec15_row2_col1 {\n  background-color: #5977e3;\n  color: #f1f1f1;\n}\n#T_bec15_row2_col3, #T_bec15_row4_col6 {\n  background-color: #6c8ff1;\n  color: #f1f1f1;\n}\n#T_bec15_row2_col4, #T_bec15_row4_col2 {\n  background-color: #4961d2;\n  color: #f1f1f1;\n}\n#T_bec15_row2_col5 {\n  background-color: #93b5fe;\n  color: #000000;\n}\n#T_bec15_row2_col6, #T_bec15_row3_col8, #T_bec15_row4_col7 {\n  background-color: #3d50c3;\n  color: #f1f1f1;\n}\n#T_bec15_row2_col7, #T_bec15_row8_col7 {\n  background-color: #80a3fa;\n  color: #f1f1f1;\n}\n#T_bec15_row3_col0 {\n  background-color: #4e68d8;\n  color: #f1f1f1;\n}\n#T_bec15_row3_col2, #T_bec15_row5_col1 {\n  background-color: #7295f4;\n  color: #f1f1f1;\n}\n#T_bec15_row3_col4 {\n  background-color: #c4d5f3;\n  color: #000000;\n}\n#T_bec15_row3_col5 {\n  background-color: #bad0f8;\n  color: #000000;\n}\n#T_bec15_row3_col6 {\n  background-color: #6b8df0;\n  color: #f1f1f1;\n}\n#T_bec15_row3_col7, #T_bec15_row6_col1 {\n  background-color: #5470de;\n  color: #f1f1f1;\n}\n#T_bec15_row4_col0 {\n  background-color: #4b64d5;\n  color: #f1f1f1;\n}\n#T_bec15_row4_col1 {\n  background-color: #9bbcff;\n  color: #000000;\n}\n#T_bec15_row4_col3 {\n  background-color: #c1d4f4;\n  color: #000000;\n}\n#T_bec15_row4_col5 {\n  background-color: #7597f6;\n  color: #f1f1f1;\n}\n#T_bec15_row4_col8 {\n  background-color: #4f69d9;\n  color: #f1f1f1;\n}\n#T_bec15_row5_col2 {\n  background-color: #8db0fe;\n  color: #000000;\n}\n#T_bec15_row5_col3 {\n  background-color: #b2ccfb;\n  color: #000000;\n}\n#T_bec15_row5_col4 {\n  background-color: #6e90f2;\n  color: #f1f1f1;\n}\n#T_bec15_row5_col6 {\n  background-color: #5d7ce6;\n  color: #f1f1f1;\n}\n#T_bec15_row5_col8 {\n  background-color: #8badfd;\n  color: #000000;\n}\n#T_bec15_row6_col0, #T_bec15_row7_col5, #T_bec15_row8_col3 {\n  background-color: #3f53c6;\n  color: #f1f1f1;\n}\n#T_bec15_row6_col3 {\n  background-color: #6485ec;\n  color: #f1f1f1;\n}\n#T_bec15_row6_col4 {\n  background-color: #6a8bef;\n  color: #f1f1f1;\n}\n#T_bec15_row7_col0 {\n  background-color: #e6d7cf;\n  color: #000000;\n}\n#T_bec15_row7_col1 {\n  background-color: #81a4fb;\n  color: #f1f1f1;\n}\n#T_bec15_row7_col2 {\n  background-color: #7da0f9;\n  color: #f1f1f1;\n}\n#T_bec15_row7_col3 {\n  background-color: #4c66d6;\n  color: #f1f1f1;\n}\n#T_bec15_row7_col8 {\n  background-color: #7699f6;\n  color: #f1f1f1;\n}\n#T_bec15_row8_col1 {\n  background-color: #cbd8ee;\n  color: #000000;\n}\n#T_bec15_row8_col4 {\n  background-color: #5673e0;\n  color: #f1f1f1;\n}\n#T_bec15_row8_col5 {\n  background-color: #97b8ff;\n  color: #000000;\n}\n#T_bec15_row8_col6 {\n  background-color: #688aef;\n  color: #f1f1f1;\n}\n</style>\n<table id=\"T_bec15\">\n  <thead>\n    <tr>\n      <th class=\"blank level0\" >&nbsp;</th>\n      <th id=\"T_bec15_level0_col0\" class=\"col_heading level0 col0\" >Pregnancies</th>\n      <th id=\"T_bec15_level0_col1\" class=\"col_heading level0 col1\" >Glucose</th>\n      <th id=\"T_bec15_level0_col2\" class=\"col_heading level0 col2\" >BloodPressure</th>\n      <th id=\"T_bec15_level0_col3\" class=\"col_heading level0 col3\" >SkinThickness</th>\n      <th id=\"T_bec15_level0_col4\" class=\"col_heading level0 col4\" >Insulin</th>\n      <th id=\"T_bec15_level0_col5\" class=\"col_heading level0 col5\" >BMI</th>\n      <th id=\"T_bec15_level0_col6\" class=\"col_heading level0 col6\" >DiabetesPedigreeFunction</th>\n      <th id=\"T_bec15_level0_col7\" class=\"col_heading level0 col7\" >Age</th>\n      <th id=\"T_bec15_level0_col8\" class=\"col_heading level0 col8\" >Outcome</th>\n    </tr>\n  </thead>\n  <tbody>\n    <tr>\n      <th id=\"T_bec15_level0_row0\" class=\"row_heading level0 row0\" >Pregnancies</th>\n      <td id=\"T_bec15_row0_col0\" class=\"data row0 col0\" >1.000000</td>\n      <td id=\"T_bec15_row0_col1\" class=\"data row0 col1\" >0.129459</td>\n      <td id=\"T_bec15_row0_col2\" class=\"data row0 col2\" >0.141282</td>\n      <td id=\"T_bec15_row0_col3\" class=\"data row0 col3\" >0.081672</td>\n      <td id=\"T_bec15_row0_col4\" class=\"data row0 col4\" >0.073535</td>\n      <td id=\"T_bec15_row0_col5\" class=\"data row0 col5\" >0.017683</td>\n      <td id=\"T_bec15_row0_col6\" class=\"data row0 col6\" >0.033523</td>\n      <td id=\"T_bec15_row0_col7\" class=\"data row0 col7\" >0.544341</td>\n      <td id=\"T_bec15_row0_col8\" class=\"data row0 col8\" >0.221898</td>\n    </tr>\n    <tr>\n      <th id=\"T_bec15_level0_row1\" class=\"row_heading level0 row1\" >Glucose</th>\n      <td id=\"T_bec15_row1_col0\" class=\"data row1 col0\" >0.129459</td>\n      <td id=\"T_bec15_row1_col1\" class=\"data row1 col1\" >1.000000</td>\n      <td id=\"T_bec15_row1_col2\" class=\"data row1 col2\" >0.152590</td>\n      <td id=\"T_bec15_row1_col3\" class=\"data row1 col3\" >0.057328</td>\n      <td id=\"T_bec15_row1_col4\" class=\"data row1 col4\" >0.331357</td>\n      <td id=\"T_bec15_row1_col5\" class=\"data row1 col5\" >0.221071</td>\n      <td id=\"T_bec15_row1_col6\" class=\"data row1 col6\" >0.137337</td>\n      <td id=\"T_bec15_row1_col7\" class=\"data row1 col7\" >0.263514</td>\n      <td id=\"T_bec15_row1_col8\" class=\"data row1 col8\" >0.466581</td>\n    </tr>\n    <tr>\n      <th id=\"T_bec15_level0_row2\" class=\"row_heading level0 row2\" >BloodPressure</th>\n      <td id=\"T_bec15_row2_col0\" class=\"data row2 col0\" >0.141282</td>\n      <td id=\"T_bec15_row2_col1\" class=\"data row2 col1\" >0.152590</td>\n      <td id=\"T_bec15_row2_col2\" class=\"data row2 col2\" >1.000000</td>\n      <td id=\"T_bec15_row2_col3\" class=\"data row2 col3\" >0.207371</td>\n      <td id=\"T_bec15_row2_col4\" class=\"data row2 col4\" >0.088933</td>\n      <td id=\"T_bec15_row2_col5\" class=\"data row2 col5\" >0.281805</td>\n      <td id=\"T_bec15_row2_col6\" class=\"data row2 col6\" >0.041265</td>\n      <td id=\"T_bec15_row2_col7\" class=\"data row2 col7\" >0.239528</td>\n      <td id=\"T_bec15_row2_col8\" class=\"data row2 col8\" >0.065068</td>\n    </tr>\n    <tr>\n      <th id=\"T_bec15_level0_row3\" class=\"row_heading level0 row3\" >SkinThickness</th>\n      <td id=\"T_bec15_row3_col0\" class=\"data row3 col0\" >0.081672</td>\n      <td id=\"T_bec15_row3_col1\" class=\"data row3 col1\" >0.057328</td>\n      <td id=\"T_bec15_row3_col2\" class=\"data row3 col2\" >0.207371</td>\n      <td id=\"T_bec15_row3_col3\" class=\"data row3 col3\" >1.000000</td>\n      <td id=\"T_bec15_row3_col4\" class=\"data row3 col4\" >0.436783</td>\n      <td id=\"T_bec15_row3_col5\" class=\"data row3 col5\" >0.392573</td>\n      <td id=\"T_bec15_row3_col6\" class=\"data row3 col6\" >0.183928</td>\n      <td id=\"T_bec15_row3_col7\" class=\"data row3 col7\" >0.113970</td>\n      <td id=\"T_bec15_row3_col8\" class=\"data row3 col8\" >0.074752</td>\n    </tr>\n    <tr>\n      <th id=\"T_bec15_level0_row4\" class=\"row_heading level0 row4\" >Insulin</th>\n      <td id=\"T_bec15_row4_col0\" class=\"data row4 col0\" >0.073535</td>\n      <td id=\"T_bec15_row4_col1\" class=\"data row4 col1\" >0.331357</td>\n      <td id=\"T_bec15_row4_col2\" class=\"data row4 col2\" >0.088933</td>\n      <td id=\"T_bec15_row4_col3\" class=\"data row4 col3\" >0.436783</td>\n      <td id=\"T_bec15_row4_col4\" class=\"data row4 col4\" >1.000000</td>\n      <td id=\"T_bec15_row4_col5\" class=\"data row4 col5\" >0.197859</td>\n      <td id=\"T_bec15_row4_col6\" class=\"data row4 col6\" >0.185071</td>\n      <td id=\"T_bec15_row4_col7\" class=\"data row4 col7\" >0.042163</td>\n      <td id=\"T_bec15_row4_col8\" class=\"data row4 col8\" >0.130548</td>\n    </tr>\n    <tr>\n      <th id=\"T_bec15_level0_row5\" class=\"row_heading level0 row5\" >BMI</th>\n      <td id=\"T_bec15_row5_col0\" class=\"data row5 col0\" >0.017683</td>\n      <td id=\"T_bec15_row5_col1\" class=\"data row5 col1\" >0.221071</td>\n      <td id=\"T_bec15_row5_col2\" class=\"data row5 col2\" >0.281805</td>\n      <td id=\"T_bec15_row5_col3\" class=\"data row5 col3\" >0.392573</td>\n      <td id=\"T_bec15_row5_col4\" class=\"data row5 col4\" >0.197859</td>\n      <td id=\"T_bec15_row5_col5\" class=\"data row5 col5\" >1.000000</td>\n      <td id=\"T_bec15_row5_col6\" class=\"data row5 col6\" >0.140647</td>\n      <td id=\"T_bec15_row5_col7\" class=\"data row5 col7\" >0.036242</td>\n      <td id=\"T_bec15_row5_col8\" class=\"data row5 col8\" >0.292695</td>\n    </tr>\n    <tr>\n      <th id=\"T_bec15_level0_row6\" class=\"row_heading level0 row6\" >DiabetesPedigreeFunction</th>\n      <td id=\"T_bec15_row6_col0\" class=\"data row6 col0\" >0.033523</td>\n      <td id=\"T_bec15_row6_col1\" class=\"data row6 col1\" >0.137337</td>\n      <td id=\"T_bec15_row6_col2\" class=\"data row6 col2\" >0.041265</td>\n      <td id=\"T_bec15_row6_col3\" class=\"data row6 col3\" >0.183928</td>\n      <td id=\"T_bec15_row6_col4\" class=\"data row6 col4\" >0.185071</td>\n      <td id=\"T_bec15_row6_col5\" class=\"data row6 col5\" >0.140647</td>\n      <td id=\"T_bec15_row6_col6\" class=\"data row6 col6\" >1.000000</td>\n      <td id=\"T_bec15_row6_col7\" class=\"data row6 col7\" >0.033561</td>\n      <td id=\"T_bec15_row6_col8\" class=\"data row6 col8\" >0.173844</td>\n    </tr>\n    <tr>\n      <th id=\"T_bec15_level0_row7\" class=\"row_heading level0 row7\" >Age</th>\n      <td id=\"T_bec15_row7_col0\" class=\"data row7 col0\" >0.544341</td>\n      <td id=\"T_bec15_row7_col1\" class=\"data row7 col1\" >0.263514</td>\n      <td id=\"T_bec15_row7_col2\" class=\"data row7 col2\" >0.239528</td>\n      <td id=\"T_bec15_row7_col3\" class=\"data row7 col3\" >0.113970</td>\n      <td id=\"T_bec15_row7_col4\" class=\"data row7 col4\" >0.042163</td>\n      <td id=\"T_bec15_row7_col5\" class=\"data row7 col5\" >0.036242</td>\n      <td id=\"T_bec15_row7_col6\" class=\"data row7 col6\" >0.033561</td>\n      <td id=\"T_bec15_row7_col7\" class=\"data row7 col7\" >1.000000</td>\n      <td id=\"T_bec15_row7_col8\" class=\"data row7 col8\" >0.238356</td>\n    </tr>\n    <tr>\n      <th id=\"T_bec15_level0_row8\" class=\"row_heading level0 row8\" >Outcome</th>\n      <td id=\"T_bec15_row8_col0\" class=\"data row8 col0\" >0.221898</td>\n      <td id=\"T_bec15_row8_col1\" class=\"data row8 col1\" >0.466581</td>\n      <td id=\"T_bec15_row8_col2\" class=\"data row8 col2\" >0.065068</td>\n      <td id=\"T_bec15_row8_col3\" class=\"data row8 col3\" >0.074752</td>\n      <td id=\"T_bec15_row8_col4\" class=\"data row8 col4\" >0.130548</td>\n      <td id=\"T_bec15_row8_col5\" class=\"data row8 col5\" >0.292695</td>\n      <td id=\"T_bec15_row8_col6\" class=\"data row8 col6\" >0.173844</td>\n      <td id=\"T_bec15_row8_col7\" class=\"data row8 col7\" >0.238356</td>\n      <td id=\"T_bec15_row8_col8\" class=\"data row8 col8\" >1.000000</td>\n    </tr>\n  </tbody>\n</table>\n"
     },
     "execution_count": 19,
     "metadata": {},
     "output_type": "execute_result"
    }
   ],
   "source": [
    "corr_matrix = df.corr().abs()\n",
    "corr_matrix.style.background_gradient(cmap='coolwarm')"
   ],
   "metadata": {
    "collapsed": false
   }
  },
  {
   "cell_type": "code",
   "execution_count": 20,
   "outputs": [],
   "source": [
    "x = df.drop('Outcome', axis=1).values\n",
    "y = df['Outcome']"
   ],
   "metadata": {
    "collapsed": false
   }
  },
  {
   "cell_type": "code",
   "execution_count": 24,
   "outputs": [],
   "source": [
    "from sklearn.model_selection import train_test_split\n",
    "x_train, x_test, y_train, y_test = train_test_split(x,y, test_size=0.2)"
   ],
   "metadata": {
    "collapsed": false
   }
  },
  {
   "cell_type": "code",
   "execution_count": 25,
   "outputs": [
    {
     "data": {
      "text/plain": "80     0\n16     1\n691    1\n108    0\n276    1\n      ..\n493    1\n438    0\n123    0\n734    0\n196    0\nName: Outcome, Length: 614, dtype: int64"
     },
     "execution_count": 25,
     "metadata": {},
     "output_type": "execute_result"
    }
   ],
   "source": [
    "y_train"
   ],
   "metadata": {
    "collapsed": false
   }
  },
  {
   "cell_type": "code",
   "execution_count": 26,
   "outputs": [
    {
     "data": {
      "text/plain": "KNeighborsClassifier()",
      "text/html": "<style>#sk-container-id-1 {color: black;background-color: white;}#sk-container-id-1 pre{padding: 0;}#sk-container-id-1 div.sk-toggleable {background-color: white;}#sk-container-id-1 label.sk-toggleable__label {cursor: pointer;display: block;width: 100%;margin-bottom: 0;padding: 0.3em;box-sizing: border-box;text-align: center;}#sk-container-id-1 label.sk-toggleable__label-arrow:before {content: \"▸\";float: left;margin-right: 0.25em;color: #696969;}#sk-container-id-1 label.sk-toggleable__label-arrow:hover:before {color: black;}#sk-container-id-1 div.sk-estimator:hover label.sk-toggleable__label-arrow:before {color: black;}#sk-container-id-1 div.sk-toggleable__content {max-height: 0;max-width: 0;overflow: hidden;text-align: left;background-color: #f0f8ff;}#sk-container-id-1 div.sk-toggleable__content pre {margin: 0.2em;color: black;border-radius: 0.25em;background-color: #f0f8ff;}#sk-container-id-1 input.sk-toggleable__control:checked~div.sk-toggleable__content {max-height: 200px;max-width: 100%;overflow: auto;}#sk-container-id-1 input.sk-toggleable__control:checked~label.sk-toggleable__label-arrow:before {content: \"▾\";}#sk-container-id-1 div.sk-estimator input.sk-toggleable__control:checked~label.sk-toggleable__label {background-color: #d4ebff;}#sk-container-id-1 div.sk-label input.sk-toggleable__control:checked~label.sk-toggleable__label {background-color: #d4ebff;}#sk-container-id-1 input.sk-hidden--visually {border: 0;clip: rect(1px 1px 1px 1px);clip: rect(1px, 1px, 1px, 1px);height: 1px;margin: -1px;overflow: hidden;padding: 0;position: absolute;width: 1px;}#sk-container-id-1 div.sk-estimator {font-family: monospace;background-color: #f0f8ff;border: 1px dotted black;border-radius: 0.25em;box-sizing: border-box;margin-bottom: 0.5em;}#sk-container-id-1 div.sk-estimator:hover {background-color: #d4ebff;}#sk-container-id-1 div.sk-parallel-item::after {content: \"\";width: 100%;border-bottom: 1px solid gray;flex-grow: 1;}#sk-container-id-1 div.sk-label:hover label.sk-toggleable__label {background-color: #d4ebff;}#sk-container-id-1 div.sk-serial::before {content: \"\";position: absolute;border-left: 1px solid gray;box-sizing: border-box;top: 0;bottom: 0;left: 50%;z-index: 0;}#sk-container-id-1 div.sk-serial {display: flex;flex-direction: column;align-items: center;background-color: white;padding-right: 0.2em;padding-left: 0.2em;position: relative;}#sk-container-id-1 div.sk-item {position: relative;z-index: 1;}#sk-container-id-1 div.sk-parallel {display: flex;align-items: stretch;justify-content: center;background-color: white;position: relative;}#sk-container-id-1 div.sk-item::before, #sk-container-id-1 div.sk-parallel-item::before {content: \"\";position: absolute;border-left: 1px solid gray;box-sizing: border-box;top: 0;bottom: 0;left: 50%;z-index: -1;}#sk-container-id-1 div.sk-parallel-item {display: flex;flex-direction: column;z-index: 1;position: relative;background-color: white;}#sk-container-id-1 div.sk-parallel-item:first-child::after {align-self: flex-end;width: 50%;}#sk-container-id-1 div.sk-parallel-item:last-child::after {align-self: flex-start;width: 50%;}#sk-container-id-1 div.sk-parallel-item:only-child::after {width: 0;}#sk-container-id-1 div.sk-dashed-wrapped {border: 1px dashed gray;margin: 0 0.4em 0.5em 0.4em;box-sizing: border-box;padding-bottom: 0.4em;background-color: white;}#sk-container-id-1 div.sk-label label {font-family: monospace;font-weight: bold;display: inline-block;line-height: 1.2em;}#sk-container-id-1 div.sk-label-container {text-align: center;}#sk-container-id-1 div.sk-container {/* jupyter's `normalize.less` sets `[hidden] { display: none; }` but bootstrap.min.css set `[hidden] { display: none !important; }` so we also need the `!important` here to be able to override the default hidden behavior on the sphinx rendered scikit-learn.org. See: https://github.com/scikit-learn/scikit-learn/issues/21755 */display: inline-block !important;position: relative;}#sk-container-id-1 div.sk-text-repr-fallback {display: none;}</style><div id=\"sk-container-id-1\" class=\"sk-top-container\"><div class=\"sk-text-repr-fallback\"><pre>KNeighborsClassifier()</pre><b>In a Jupyter environment, please rerun this cell to show the HTML representation or trust the notebook. <br />On GitHub, the HTML representation is unable to render, please try loading this page with nbviewer.org.</b></div><div class=\"sk-container\" hidden><div class=\"sk-item\"><div class=\"sk-estimator sk-toggleable\"><input class=\"sk-toggleable__control sk-hidden--visually\" id=\"sk-estimator-id-1\" type=\"checkbox\" checked><label for=\"sk-estimator-id-1\" class=\"sk-toggleable__label sk-toggleable__label-arrow\">KNeighborsClassifier</label><div class=\"sk-toggleable__content\"><pre>KNeighborsClassifier()</pre></div></div></div></div></div>"
     },
     "execution_count": 26,
     "metadata": {},
     "output_type": "execute_result"
    }
   ],
   "source": [
    "from sklearn.neighbors import KNeighborsClassifier\n",
    "\n",
    "knn = KNeighborsClassifier(n_neighbors=5)\n",
    "\n",
    "knn.fit(x_train, y_train)\n"
   ],
   "metadata": {
    "collapsed": false
   }
  },
  {
   "cell_type": "code",
   "execution_count": 27,
   "outputs": [],
   "source": [
    "y_predict = knn.predict(x_test)"
   ],
   "metadata": {
    "collapsed": false
   }
  },
  {
   "cell_type": "code",
   "execution_count": 28,
   "outputs": [
    {
     "data": {
      "text/plain": "0.421875"
     },
     "execution_count": 28,
     "metadata": {},
     "output_type": "execute_result"
    }
   ],
   "source": [
    "from sklearn.metrics import jaccard_score\n",
    "\n",
    "jaccard_score(y_test, y_predict)"
   ],
   "metadata": {
    "collapsed": false
   }
  },
  {
   "cell_type": "code",
   "execution_count": 29,
   "outputs": [
    {
     "data": {
      "text/plain": "<Figure size 640x480 with 2 Axes>",
      "image/png": "[encoded data removed]"
     },
     "metadata": {},
     "output_type": "display_data"
    }
   ],
   "source": [
    "from sklearn.metrics import confusion_matrix\n",
    "import seaborn as sns\n",
    "import matplotlib.pyplot as plt\n",
    "\n",
    "sns.heatmap(confusion_matrix(y_test, y_predict), annot=True)\n",
    "plt.show()\n"
   ],
   "metadata": {
    "collapsed": false
   }
  },
  {
   "cell_type": "code",
   "execution_count": 30,
   "outputs": [
    {
     "name": "stdout",
     "output_type": "stream",
     "text": [
      "              precision    recall  f1-score   support\n",
      "\n",
      "           0       0.82      0.84      0.83       107\n",
      "           1       0.61      0.57      0.59        47\n",
      "\n",
      "    accuracy                           0.76       154\n",
      "   macro avg       0.72      0.71      0.71       154\n",
      "weighted avg       0.76      0.76      0.76       154\n",
      "\n"
     ]
    }
   ],
   "source": [
    "from sklearn.metrics import  classification_report\n",
    "print(classification_report(y_test, y_predict))"
   ],
   "metadata": {
    "collapsed": false
   }
  },
  {
   "cell_type": "code",
   "execution_count": 31,
   "outputs": [],
   "source": [
    "from sklearn.model_selection import cross_val_predict\n",
    "predict = cross_val_predict(estimator=knn, X=x, y=y, cv=5)\n"
   ],
   "metadata": {
    "collapsed": false
   }
  },
  {
   "cell_type": "code",
   "execution_count": 34,
   "outputs": [
    {
     "name": "stdout",
     "output_type": "stream",
     "text": [
      "Classification Report :\n",
      "                precision    recall  f1-score   support\n",
      "\n",
      "           0       0.77      0.83      0.80       500\n",
      "           1       0.62      0.53      0.57       268\n",
      "\n",
      "    accuracy                           0.72       768\n",
      "   macro avg       0.69      0.68      0.68       768\n",
      "weighted avg       0.72      0.72      0.72       768\n",
      "\n"
     ]
    }
   ],
   "source": [
    "from sklearn.metrics import classification_report\n",
    "print('Classification Report :\\n ', classification_report(y, predict))"
   ],
   "metadata": {
    "collapsed": false
   }
  },
  {
   "cell_type": "code",
   "execution_count": 35,
   "outputs": [
    {
     "data": {
      "text/plain": "['knn_model.joblib']"
     },
     "execution_count": 35,
     "metadata": {},
     "output_type": "execute_result"
    }
   ],
   "source": [
    "from joblib import dump\n",
    "\n",
    "dump(knn, 'knn_model.joblib')"
   ],
   "metadata": {
    "collapsed": false
   }
  },
  {
   "cell_type": "code",
   "execution_count": 36,
   "outputs": [
    {
     "data": {
      "text/plain": "Index(['Pregnancies', 'Glucose', 'BloodPressure', 'SkinThickness', 'Insulin',\n       'BMI', 'DiabetesPedigreeFunction', 'Age', 'Outcome'],\n      dtype='object')"
     },
     "execution_count": 36,
     "metadata": {},
     "output_type": "execute_result"
    }
   ],
   "source": [
    "df.columns"
   ],
   "metadata": {
    "collapsed": false
   }
  },
  {
   "cell_type": "code",
   "execution_count": null,
   "outputs": [],
   "source": [],
   "metadata": {
    "collapsed": false
   }
  }
 ],
 "metadata": {
  "kernelspec": {
   "display_name": "Python 3",
   "language": "python",
   "name": "python3"
  },
  "language_info": {
   "codemirror_mode": {
    "name": "ipython",
    "version": 2
   },
   "file_extension": ".py",
   "mimetype": "text/x-python",
   "name": "python",
   "nbconvert_exporter": "python",
   "pygments_lexer": "ipython2",
   "version": "2.7.6"
  }
 },
 "nbformat": 4,
 "nbformat_minor": 0
}
